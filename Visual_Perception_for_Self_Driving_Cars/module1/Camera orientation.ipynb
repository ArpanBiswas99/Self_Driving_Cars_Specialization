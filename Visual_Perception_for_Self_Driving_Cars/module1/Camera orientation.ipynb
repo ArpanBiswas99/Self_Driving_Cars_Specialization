{
 "cells": [
  {
   "cell_type": "code",
   "execution_count": 12,
   "metadata": {},
   "outputs": [
    {
     "data": {
      "text/plain": [
       "matrix([[-0.5],\n",
       "        [-0.5],\n",
       "        [-1. ]])"
      ]
     },
     "execution_count": 12,
     "metadata": {},
     "output_type": "execute_result"
    }
   ],
   "source": [
    "import numpy as np\n",
    "import math\n",
    "k = np.matrix([[640, 0, 640], [0, 480, 480], [0, 0, 1]])\n",
    "t = np.matrix([[1],\n",
    "              [2],\n",
    "              [10]])\n",
    "th = 180 * math.pi\n",
    "Rx = np.matrix([[1, 0, 0, -1], [0, math.cos(th), -math.sin(th), -2], [0, math.sin(th), math.cos(th), -10]])\n",
    "Ry = np.matrix([[math.cos(th), 0, -math.sin(th)], [0, 1, 0], [math.sin(th), 0, math.cos(th)]])\n",
    "Rz = np.matrix([[math.cos(th), -math.sin(th), 0], [math.sin(th), math.cos(th), 0], [0, 0, 1]])\n",
    "Ow = np.matrix([[0.5],\n",
    "             [1.5],\n",
    "             [9],\n",
    "             [1]])\n",
    "#R = Rx @ Ry @ Rz\n",
    "Oc =  (Rx @ Ow)\n",
    "Oi = k @ Oc\n",
    "I = Oi/Oi[2]\n",
    "#math.cos(90 * math.pi)\n",
    "Oc"
   ]
  },
  {
   "cell_type": "code",
   "execution_count": null,
   "metadata": {},
   "outputs": [],
   "source": []
  }
 ],
 "metadata": {
  "kernelspec": {
   "display_name": "Python 3",
   "language": "python",
   "name": "python3"
  },
  "language_info": {
   "codemirror_mode": {
    "name": "ipython",
    "version": 3
   },
   "file_extension": ".py",
   "mimetype": "text/x-python",
   "name": "python",
   "nbconvert_exporter": "python",
   "pygments_lexer": "ipython3",
   "version": "3.7.1"
  }
 },
 "nbformat": 4,
 "nbformat_minor": 2
}
