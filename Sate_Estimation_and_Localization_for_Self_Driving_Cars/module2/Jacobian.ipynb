{
 "cells": [
  {
   "cell_type": "code",
   "execution_count": 6,
   "metadata": {},
   "outputs": [
    {
     "data": {
      "text/latex": [
       "$$\\left[\\begin{matrix}x\\\\y\\\\\\theta_{k-1}\\end{matrix}\\right]$$"
      ],
      "text/plain": [
       "⎡ x  ⎤\n",
       "⎢    ⎥\n",
       "⎢ y  ⎥\n",
       "⎢    ⎥\n",
       "⎣θₖ₋₁⎦"
      ]
     },
     "metadata": {},
     "output_type": "display_data"
    },
    {
     "data": {
      "text/latex": [
       "$$\\left[\\begin{matrix}1 & 0 & - T v_{k} \\sin{\\left (\\theta_{k-1} \\right )}\\\\0 & 1 & T v_{k} \\cos{\\left (\\theta_{k-1} \\right )}\\\\0 & 0 & 1\\end{matrix}\\right]$$"
      ],
      "text/plain": [
       "⎡1  0  -T⋅vₖ⋅sin(θₖ₋₁)⎤\n",
       "⎢                     ⎥\n",
       "⎢0  1  T⋅vₖ⋅cos(θₖ₋₁) ⎥\n",
       "⎢                     ⎥\n",
       "⎣0  0         1       ⎦"
      ]
     },
     "metadata": {},
     "output_type": "display_data"
    }
   ],
   "source": [
    "import sympy\n",
    "from IPython.display import display\n",
    "import sympy as sp\n",
    "from sympy import *\n",
    "sympy.init_printing(use_latex=True)\n",
    "xl, yl, d, x, y, theta, T, v_k, om_k, w_k, Q = symbols('xl yl d x y theta_k-1 T v_k om_k w_k Q')\n",
    "X_k = sp.Matrix([[x],[y],[theta]]) + (T * sp.Matrix([[cos(theta),0], [sin(theta), 0], [0, 1]])@(sp.Matrix([[v_k], [om_k]])))\n",
    "state = sp.Matrix([x, y, theta])\n",
    "display(state)\n",
    "F=X_k.jacobian(state)\n",
    "display(F)"
   ]
  },
  {
   "cell_type": "code",
   "execution_count": 7,
   "metadata": {},
   "outputs": [
    {
     "data": {
      "text/latex": [
       "$$\\left[\\begin{matrix}\\sqrt{\\left(- d \\sin{\\left (\\theta_{k-1} \\right )} - y + yl\\right)^{2} + \\left(- d \\cos{\\left (\\theta_{k-1} \\right )} - x + xl\\right)^{2}}\\\\- \\theta_{k-1} + \\operatorname{atan_{2}}{\\left (- d \\sin{\\left (\\theta_{k-1} \\right )} - y + yl,- d \\cos{\\left (\\theta_{k-1} \\right )} - x + xl \\right )}\\end{matrix}\\right]$$"
      ],
      "text/plain": [
       "⎡    _____________________________________________________  ⎤\n",
       "⎢   ╱                        2                          2   ⎥\n",
       "⎢ ╲╱  (-d⋅sin(θₖ₋₁) - y + yl)  + (-d⋅cos(θₖ₋₁) - x + xl)    ⎥\n",
       "⎢                                                           ⎥\n",
       "⎣-θₖ₋₁ + atan2(-d⋅sin(θₖ₋₁) - y + yl, -d⋅cos(θₖ₋₁) - x + xl)⎦"
      ]
     },
     "metadata": {},
     "output_type": "display_data"
    },
    {
     "data": {
      "text/latex": [
       "$$\\left[\\begin{matrix}\\frac{d \\cos{\\left (\\theta_{k-1} \\right )} + x - xl}{\\sqrt{\\left(- d \\sin{\\left (\\theta_{k-1} \\right )} - y + yl\\right)^{2} + \\left(- d \\cos{\\left (\\theta_{k-1} \\right )} - x + xl\\right)^{2}}} & \\frac{d \\sin{\\left (\\theta_{k-1} \\right )} + y - yl}{\\sqrt{\\left(- d \\sin{\\left (\\theta_{k-1} \\right )} - y + yl\\right)^{2} + \\left(- d \\cos{\\left (\\theta_{k-1} \\right )} - x + xl\\right)^{2}}} & \\frac{- d \\left(- d \\sin{\\left (\\theta_{k-1} \\right )} - y + yl\\right) \\cos{\\left (\\theta_{k-1} \\right )} + d \\left(- d \\cos{\\left (\\theta_{k-1} \\right )} - x + xl\\right) \\sin{\\left (\\theta_{k-1} \\right )}}{\\sqrt{\\left(- d \\sin{\\left (\\theta_{k-1} \\right )} - y + yl\\right)^{2} + \\left(- d \\cos{\\left (\\theta_{k-1} \\right )} - x + xl\\right)^{2}}}\\\\- \\frac{d \\sin{\\left (\\theta_{k-1} \\right )} + y - yl}{\\left(- d \\sin{\\left (\\theta_{k-1} \\right )} - y + yl\\right)^{2} + \\left(- d \\cos{\\left (\\theta_{k-1} \\right )} - x + xl\\right)^{2}} & - \\frac{- d \\cos{\\left (\\theta_{k-1} \\right )} - x + xl}{\\left(- d \\sin{\\left (\\theta_{k-1} \\right )} - y + yl\\right)^{2} + \\left(- d \\cos{\\left (\\theta_{k-1} \\right )} - x + xl\\right)^{2}} & \\frac{d \\left(d \\sin{\\left (\\theta_{k-1} \\right )} + y - yl\\right) \\sin{\\left (\\theta_{k-1} \\right )}}{\\left(- d \\sin{\\left (\\theta_{k-1} \\right )} - y + yl\\right)^{2} + \\left(- d \\cos{\\left (\\theta_{k-1} \\right )} - x + xl\\right)^{2}} - \\frac{d \\left(- d \\cos{\\left (\\theta_{k-1} \\right )} - x + xl\\right) \\cos{\\left (\\theta_{k-1} \\right )}}{\\left(- d \\sin{\\left (\\theta_{k-1} \\right )} - y + yl\\right)^{2} + \\left(- d \\cos{\\left (\\theta_{k-1} \\right )} - x + xl\\right)^{2}} - 1\\end{matrix}\\right]$$"
      ],
      "text/plain": [
       "⎡                  d⋅cos(θₖ₋₁) + x - xl                                      d\n",
       "⎢────────────────────────────────────────────────────────  ───────────────────\n",
       "⎢   _____________________________________________________     ________________\n",
       "⎢  ╱                        2                          2     ╱                \n",
       "⎢╲╱  (-d⋅sin(θₖ₋₁) - y + yl)  + (-d⋅cos(θₖ₋₁) - x + xl)    ╲╱  (-d⋅sin(θₖ₋₁) -\n",
       "⎢                                                                             \n",
       "⎢                -(d⋅sin(θₖ₋₁) + y - yl)                                  -(-d\n",
       "⎢  ───────────────────────────────────────────────────       ─────────────────\n",
       "⎢                         2                          2                        \n",
       "⎣  (-d⋅sin(θₖ₋₁) - y + yl)  + (-d⋅cos(θₖ₋₁) - x + xl)        (-d⋅sin(θₖ₋₁) - y\n",
       "\n",
       "⋅sin(θₖ₋₁) + y - yl                                     -d⋅(-d⋅sin(θₖ₋₁) - y +\n",
       "─────────────────────────────────────                   ──────────────────────\n",
       "_____________________________________                               __________\n",
       "        2                          2                               ╱          \n",
       " y + yl)  + (-d⋅cos(θₖ₋₁) - x + xl)                              ╲╱  (-d⋅sin(θ\n",
       "                                                                              \n",
       "⋅cos(θₖ₋₁) - x + xl)                            d⋅(d⋅sin(θₖ₋₁) + y - yl)⋅sin(θ\n",
       "──────────────────────────────────     ───────────────────────────────────────\n",
       "      2                          2                            2               \n",
       " + yl)  + (-d⋅cos(θₖ₋₁) - x + xl)      (-d⋅sin(θₖ₋₁) - y + yl)  + (-d⋅cos(θₖ₋₁\n",
       "\n",
       " yl)⋅cos(θₖ₋₁) + d⋅(-d⋅cos(θₖ₋₁) - x + xl)⋅sin(θₖ₋₁)                  ⎤\n",
       "────────────────────────────────────────────────────                  ⎥\n",
       "___________________________________________                           ⎥\n",
       "              2                          2                            ⎥\n",
       "ₖ₋₁) - y + yl)  + (-d⋅cos(θₖ₋₁) - x + xl)                             ⎥\n",
       "                                                                      ⎥\n",
       "ₖ₋₁)                   d⋅(-d⋅cos(θₖ₋₁) - x + xl)⋅cos(θₖ₋₁)            ⎥\n",
       "──────────── - ─────────────────────────────────────────────────── - 1⎥\n",
       "           2                          2                          2    ⎥\n",
       ") - x + xl)    (-d⋅sin(θₖ₋₁) - y + yl)  + (-d⋅cos(θₖ₋₁) - x + xl)     ⎦"
      ]
     },
     "metadata": {},
     "output_type": "display_data"
    }
   ],
   "source": [
    "#xl, xk, theta, yl, yk, d = symbols('x_l x_k theta_k y_l y_k d')\n",
    "z = sp.Matrix([[sqrt(((xl-x-d*cos(theta))**2) + ((yl-y-d*sin(theta))**2))], [atan2((yl-y-d*sin(theta)), (xl-x-d*cos(theta))) - theta]])\n",
    "display(z)\n",
    "H = z.jacobian(sp.Matrix([x, y, theta]))\n",
    "display(H)"
   ]
  },
  {
   "cell_type": "code",
   "execution_count": null,
   "metadata": {},
   "outputs": [],
   "source": []
  }
 ],
 "metadata": {
  "kernelspec": {
   "display_name": "Python 3",
   "language": "python",
   "name": "python3"
  },
  "language_info": {
   "codemirror_mode": {
    "name": "ipython",
    "version": 3
   },
   "file_extension": ".py",
   "mimetype": "text/x-python",
   "name": "python",
   "nbconvert_exporter": "python",
   "pygments_lexer": "ipython3",
   "version": "3.7.1"
  }
 },
 "nbformat": 4,
 "nbformat_minor": 2
}
